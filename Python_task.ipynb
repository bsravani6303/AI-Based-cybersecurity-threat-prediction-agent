{
  "nbformat": 4,
  "nbformat_minor": 0,
  "metadata": {
    "colab": {
      "provenance": [],
      "authorship_tag": "ABX9TyNACkvNoSxjxDsn7tbqMNal",
      "include_colab_link": true
    },
    "kernelspec": {
      "name": "python3",
      "display_name": "Python 3"
    },
    "language_info": {
      "name": "python"
    }
  },
  "cells": [
    {
      "cell_type": "markdown",
      "metadata": {
        "id": "view-in-github",
        "colab_type": "text"
      },
      "source": [
        "<a href=\"https://colab.research.google.com/github/bsravani6303/AI-Based-cybersecurity-threat-prediction-agent/blob/main/Python_task.ipynb\" target=\"_parent\"><img src=\"https://colab.research.google.com/assets/colab-badge.svg\" alt=\"Open In Colab\"/></a>"
      ]
    },
    {
      "cell_type": "markdown",
      "source": [
        "# **Python task**\n",
        "\n",
        "prompt: Create a class 'Student' to calculate grade\n"
      ],
      "metadata": {
        "id": "R_aRbqk6a4NF"
      }
    },
    {
      "cell_type": "code",
      "source": [
        "class Student:\n",
        "\n",
        "    def __init__(self, name, marks):\n",
        "        self.__name = name\n",
        "        self.__marks = marks # private variable\n",
        "\n",
        "    def get_name(self):\n",
        "        return self.__name\n",
        "\n",
        "    def calculate_grade(self):\n",
        "        avg = sum(self.__marks) / len(self.__marks)\n",
        "        if avg >= 90:\n",
        "            return 'A'\n",
        "        elif avg >= 75:\n",
        "            return 'B'\n",
        "        elif avg >= 60:\n",
        "            return 'C'\n",
        "        else:\n",
        "            return 'D'\n",
        "s1 = Student(\"Alice\", [85, 90, 88])\n",
        "print(f\"{s1.get_name()} got grade {s1.calculate_grade()}\")"
      ],
      "metadata": {
        "colab": {
          "base_uri": "https://localhost:8080/"
        },
        "id": "ab2wvTarc7nK",
        "outputId": "97eb3be0-4d12-495e-ecd5-a630fd118a4f"
      },
      "execution_count": null,
      "outputs": [
        {
          "output_type": "stream",
          "name": "stdout",
          "text": [
            "Alice got grade B\n"
          ]
        }
      ]
    },
    {
      "cell_type": "markdown",
      "source": [
        " Using NumPy – Create a 2D matrix and perform matrix operations"
      ],
      "metadata": {
        "id": "Z6ouP05ydlab"
      }
    },
    {
      "cell_type": "code",
      "source": [
        "import numpy as np\n",
        "\n",
        "A = np.array([[2, 4], [6, 8]])\n",
        "B = np.array([[1, 3], [5, 7]])\n",
        "\n",
        "print(\"Matrix A:\\n\", A)\n",
        "print(\"Matrix B:\\n\", B)\n",
        "print(\"\\nA + B =\\n\", A + B)\n",
        "print(\"\\nA × B (matrix multiplication) =\\n\", np.dot(A, B))\n",
        "print(\"\\nTranspose of A =\\n\", A.T)"
      ],
      "metadata": {
        "colab": {
          "base_uri": "https://localhost:8080/"
        },
        "id": "e79uCPXYdva1",
        "outputId": "68dafa5c-e0e5-46fe-ff4f-5a11e16a7bf9"
      },
      "execution_count": null,
      "outputs": [
        {
          "output_type": "stream",
          "name": "stdout",
          "text": [
            "Matrix A:\n",
            " [[2 4]\n",
            " [6 8]]\n",
            "Matrix B:\n",
            " [[1 3]\n",
            " [5 7]]\n",
            "\n",
            "A + B =\n",
            " [[ 3  7]\n",
            " [11 15]]\n",
            "\n",
            "A × B (matrix multiplication) =\n",
            " [[22 34]\n",
            " [46 74]]\n",
            "\n",
            "Transpose of A =\n",
            " [[2 6]\n",
            " [4 8]]\n"
          ]
        }
      ]
    },
    {
      "cell_type": "markdown",
      "source": [
        "Prompt: Using Pandas – Filter, sort, and analyze data from a DataFrame"
      ],
      "metadata": {
        "id": "GSl-Wh4Nd0qe"
      }
    },
    {
      "cell_type": "code",
      "source": [
        "import pandas as pd\n",
        "\n",
        "data = {\n",
        "    'Name': ['Alice', 'Bob', 'Charlie', 'David', 'Eva'],\n",
        "    'Age': [20, 22, 23, 21, 24],\n",
        "    'Score': [85, 72, 90, 60, 88]\n",
        "}\n",
        "\n",
        "df = pd.DataFrame(data)\n",
        "print(\"Original Data:\\n\", df)\n",
        "\n",
        "\n",
        "filtered = df[df['Score'] > 80]\n",
        "print(\"\\nStudents with Score > 80:\\n\", filtered)\n",
        "\n",
        "\n",
        "sorted_df = df.sort_values(by='Score', ascending=False)\n",
        "print(\"\\nSorted by Score:\\n\", sorted_df)\n",
        "\n",
        "\n",
        "print(\"\\nAverage Score:\", df['Score'].mean())"
      ],
      "metadata": {
        "colab": {
          "base_uri": "https://localhost:8080/"
        },
        "id": "5dkHHgmmd1R1",
        "outputId": "664f6bd0-4663-42ff-a5ee-8fe7ca80bc4c"
      },
      "execution_count": null,
      "outputs": [
        {
          "output_type": "stream",
          "name": "stdout",
          "text": [
            "Original Data:\n",
            "       Name  Age  Score\n",
            "0    Alice   20     85\n",
            "1      Bob   22     72\n",
            "2  Charlie   23     90\n",
            "3    David   21     60\n",
            "4      Eva   24     88\n",
            "\n",
            "Students with Score > 80:\n",
            "       Name  Age  Score\n",
            "0    Alice   20     85\n",
            "2  Charlie   23     90\n",
            "4      Eva   24     88\n",
            "\n",
            "Sorted by Score:\n",
            "       Name  Age  Score\n",
            "2  Charlie   23     90\n",
            "4      Eva   24     88\n",
            "0    Alice   20     85\n",
            "1      Bob   22     72\n",
            "3    David   21     60\n",
            "\n",
            "Average Score: 79.0\n"
          ]
        }
      ]
    },
    {
      "cell_type": "markdown",
      "source": [
        "Prompt: Create a decorator to measure execution time of a function"
      ],
      "metadata": {
        "id": "zQEiCJgCeTWB"
      }
    },
    {
      "cell_type": "code",
      "source": [
        "import time\n",
        "\n",
        "def timer(func):\n",
        "    def wrapper(*args, **kwargs):\n",
        "        start = time.time()\n",
        "        result = func(*args, **kwargs)\n",
        "        end = time.time()\n",
        "        print(f\"⏱️ Execution time: {end - start:.4f} seconds\")\n",
        "        return result\n",
        "    return wrapper\n",
        "\n",
        "@timer\n",
        "def compute_sum(n):\n",
        "    return sum(range(n))\n",
        "\n",
        "print(\"Sum:\", compute_sum(10_000_000))"
      ],
      "metadata": {
        "colab": {
          "base_uri": "https://localhost:8080/"
        },
        "id": "2hrUvp1teXgS",
        "outputId": "90b37616-4873-479a-a18c-f3c7dd904a4f"
      },
      "execution_count": null,
      "outputs": [
        {
          "output_type": "stream",
          "name": "stdout",
          "text": [
            "⏱️ Execution time: 0.1198 seconds\n",
            "Sum: 49999995000000\n"
          ]
        }
      ]
    },
    {
      "cell_type": "markdown",
      "source": [
        "\n",
        "Prompt: Fetch live data from an API (e.g., JSON placeholder) and process it"
      ],
      "metadata": {
        "id": "cLCKvpp7ed11"
      }
    },
    {
      "cell_type": "code",
      "source": [
        "import requests\n",
        "\n",
        "url = \"https://jsonplaceholder.typicode.com/posts\"\n",
        "response = requests.get(url)\n",
        "posts = response.json()\n",
        "\n",
        "print(f\"Total Posts Fetched: {len(posts)}\")\n",
        "\n",
        "# Print first 3 titles\n",
        "for p in posts[:3]:\n",
        "    print(\"-\", p[\"title\"])"
      ],
      "metadata": {
        "colab": {
          "base_uri": "https://localhost:8080/"
        },
        "id": "0gLOPvUvemEl",
        "outputId": "05b86ea8-cd60-449b-b05d-8612b79a6171"
      },
      "execution_count": null,
      "outputs": [
        {
          "output_type": "stream",
          "name": "stdout",
          "text": [
            "Total Posts Fetched: 100\n",
            "- sunt aut facere repellat provident occaecati excepturi optio reprehenderit\n",
            "- qui est esse\n",
            "- ea molestias quasi exercitationem repellat qui ipsa sit aut\n"
          ]
        }
      ]
    },
    {
      "cell_type": "markdown",
      "source": [
        "\n",
        "Prompt: Use List Comprehension and Lambda to clean & transform data"
      ],
      "metadata": {
        "id": "hqO1T3v-et8n"
      }
    },
    {
      "cell_type": "code",
      "source": [
        "\n",
        "nums = [1, 2, 3, 4, 5, 6, 7, 8, 9]\n",
        "squares = [x**2 for x in nums if x % 2 == 0]\n",
        "print(\"Even squares:\", squares)\n",
        "doubles = list(map(lambda x: x * 2, nums))\n",
        "print(\"Doubled values:\", doubles)"
      ],
      "metadata": {
        "colab": {
          "base_uri": "https://localhost:8080/"
        },
        "id": "31akOZSEe3Bm",
        "outputId": "d28387b6-7f13-4e7d-8350-ec1e1438ee03"
      },
      "execution_count": null,
      "outputs": [
        {
          "output_type": "stream",
          "name": "stdout",
          "text": [
            "Even squares: [4, 16, 36, 64]\n",
            "Doubled values: [2, 4, 6, 8, 10, 12, 14, 16, 18]\n"
          ]
        }
      ]
    },
    {
      "cell_type": "markdown",
      "source": [
        "Prompt:Exception Handling – Handle multiple errors in a single block"
      ],
      "metadata": {
        "id": "x5ZpZsfzfK43"
      }
    },
    {
      "cell_type": "code",
      "source": [
        "try:\n",
        "    x = int(input(\"Enter a number: \"))\n",
        "    print(10 / x)\n",
        "except ValueError:\n",
        "    print(\"❌ Invalid input! Please enter a number.\")\n",
        "except ZeroDivisionError:\n",
        "    print(\"❌ Cannot divide by zero!\")\n",
        "finally:\n",
        "    print(\"✅ Task complete.\")"
      ],
      "metadata": {
        "colab": {
          "base_uri": "https://localhost:8080/"
        },
        "id": "zwdACWTtfaUO",
        "outputId": "a8783818-33b2-42ac-979c-aba8fe106cdb"
      },
      "execution_count": null,
      "outputs": [
        {
          "output_type": "stream",
          "name": "stdout",
          "text": [
            "Enter a number: 465\n",
            "0.021505376344086023\n",
            "✅ Task complete.\n"
          ]
        }
      ]
    }
  ]
}